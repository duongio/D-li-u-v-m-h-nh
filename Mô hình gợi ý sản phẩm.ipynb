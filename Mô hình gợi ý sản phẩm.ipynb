{
 "cells": [
  {
   "cell_type": "markdown",
   "id": "d7192552-94a9-4dc9-ba6b-c4dd518a6c55",
   "metadata": {},
   "source": [
    "# Xử lý dữ liệu cho mô hình"
   ]
  },
  {
   "cell_type": "markdown",
   "id": "cea6e4c4-db27-40a5-9743-545d662f1b1a",
   "metadata": {},
   "source": [
    "### Product Feature"
   ]
  },
  {
   "cell_type": "code",
   "execution_count": null,
   "id": "19dcb718-1b66-4042-9cc3-1a71dafd8c25",
   "metadata": {},
   "outputs": [],
   "source": [
    "import pandas as pd\n",
    "import seaborn as sns\n",
    "import matplotlib.pyplot as plt\n",
    "import numpy as np"
   ]
  },
  {
   "cell_type": "code",
   "execution_count": null,
   "id": "85237b9a-3293-4256-b86c-ba3d9479433b",
   "metadata": {},
   "outputs": [],
   "source": [
    "product = pd.read_csv(r'D:\\Document\\doan2\\product_features.csv')"
   ]
  },
  {
   "cell_type": "code",
   "execution_count": null,
   "id": "2528f57f-1c46-46ee-b0f9-72127c4146f6",
   "metadata": {},
   "outputs": [],
   "source": [
    "product = product.drop_duplicates()\n",
    "product.isnull().sum()\n",
    "index_to_drop = product[product['brand_id'] == 0].index\n",
    "product = product.drop(index_to_drop)\n",
    "product = product.dropna(subset=['product_id'])\n",
    "product['product_id'] = product['product_id'].astype(int)"
   ]
  },
  {
   "cell_type": "code",
   "execution_count": null,
   "id": "ce0bc85a-abfe-4774-a16f-adc491e476bc",
   "metadata": {},
   "outputs": [],
   "source": [
    "import statsmodels.api as sm\n",
    "\n",
    "X = product[['price', 'rating_average', 'review_count', 'brand_id', 'seller_id', 'total_follower', 'rating_seller']]\n",
    "y = product['quantity']\n",
    "\n",
    "X = sm.add_constant(X)\n",
    "model = sm.OLS(y, X).fit()\n",
    "print(model.summary())\n"
   ]
  },
  {
   "cell_type": "code",
   "execution_count": null,
   "id": "f5fe68ee-bada-48a8-846d-3b4fb5be360c",
   "metadata": {},
   "outputs": [],
   "source": [
    "from sklearn.ensemble import RandomForestRegressor\n",
    "\n",
    "model = RandomForestRegressor()\n",
    "model.fit(X, y)\n",
    "\n",
    "importances = model.feature_importances_\n",
    "indices = np.argsort(importances)[::-1]\n",
    "\n",
    "plt.figure()\n",
    "plt.title(\"Feature Importances\")\n",
    "plt.bar(range(X.shape[1]), importances[indices], align=\"center\")\n",
    "plt.xticks(range(X.shape[1]), [X.columns[i] for i in indices], rotation=90)\n",
    "plt.xlim([-1, X.shape[1]])\n",
    "plt.show()\n"
   ]
  },
  {
   "cell_type": "code",
   "execution_count": null,
   "id": "ce335166-993d-40cd-a20b-36eb1e8b58c9",
   "metadata": {},
   "outputs": [],
   "source": [
    "correlation_matrix = product[['review_count', 'price', 'brand_id', 'rating_average', 'total_follower', 'seller_id', 'breadcrumbs_id']].corr()\n",
    "\n",
    "plt.figure(figsize=(10, 6))\n",
    "sns.heatmap(correlation_matrix, annot=True, fmt=\".2f\", cmap='coolwarm', square=True)\n",
    "plt.title('Correlation Matrix')\n",
    "plt.show()"
   ]
  },
  {
   "cell_type": "markdown",
   "id": "7868e665-71b1-4790-bd68-61451cbd1d56",
   "metadata": {},
   "source": [
    "### User feature"
   ]
  },
  {
   "cell_type": "code",
   "execution_count": null,
   "id": "6b0932e6-8ffd-4994-bdf9-db276f0dc55f",
   "metadata": {},
   "outputs": [],
   "source": [
    "customer = pd.read_csv('D:/Document/doan2/data-doan2-clean/customer_clean.csv')\n",
    "customer = customer[['created_by_id']]"
   ]
  },
  {
   "cell_type": "markdown",
   "id": "ef75913e-d610-4259-8583-50da611d023f",
   "metadata": {},
   "source": [
    "### Rating"
   ]
  },
  {
   "cell_type": "code",
   "execution_count": null,
   "id": "ab6c23a1-ce29-4ec0-b163-afc3e95f6ba8",
   "metadata": {},
   "outputs": [],
   "source": [
    "rating = pd.read_csv('D:/Document/doan2/rating.csv')\n",
    "rating = rating.drop_duplicates()\n",
    "rating.isnull().sum()\n",
    "rating = rating.dropna(subset=['review_date', 'review_title'])\n",
    "rating = rating.drop(columns=['review_title', 'review_date'])"
   ]
  },
  {
   "cell_type": "markdown",
   "id": "7f09aebd-e5c6-44d1-9c71-0eb9c5ae04bd",
   "metadata": {},
   "source": [
    "# Mô hình Content-Based Recommendation"
   ]
  },
  {
   "cell_type": "code",
   "execution_count": null,
   "id": "347b2088-ea6c-4987-8d35-2256cf9bee58",
   "metadata": {},
   "outputs": [],
   "source": [
    "df_product = product.copy()\n",
    "df_rating = rating.copy()\n",
    "df_customer = customer.copy()"
   ]
  },
  {
   "cell_type": "code",
   "execution_count": null,
   "id": "68c006f0-d596-4635-8cd1-0d4b2de69580",
   "metadata": {},
   "outputs": [],
   "source": [
    "df_product_encoded = pd.get_dummies(df_product, columns=['last_breadcrumbs_id', 'brand_id', 'seller_id'], drop_first=True)\n",
    "features = df_product_encoded[['price', 'rating_average', 'review_count', 'total_follower'] + list(df_product_encoded.columns[df_product_encoded.columns.str.startswith('last_breadcrumbs_id_')]) + list(df_product_encoded.columns[df_product_encoded.columns.str.startswith('brand_id_')]) + list(df_product_encoded.columns[df_product_encoded.columns.str.startswith('seller_id_')])]"
   ]
  },
  {
   "cell_type": "code",
   "execution_count": null,
   "id": "5ffde120-7876-45c7-be2e-58cc5e7d090b",
   "metadata": {},
   "outputs": [],
   "source": [
    "from sklearn.preprocessing import StandardScaler\n",
    "scaler = StandardScaler()\n",
    "features_scaled = scaler.fit_transform(features)"
   ]
  },
  {
   "cell_type": "code",
   "execution_count": null,
   "id": "34508693-8dc7-4c94-95b1-97e23a76bf39",
   "metadata": {},
   "outputs": [],
   "source": [
    "import joblib\n",
    "import pandas as pd\n",
    "features_scaled = joblib.load('D:/Document/doan2/features_scaled.pkl')\n",
    "df_product = pd.read_pickle('D:/Document/doan2/df_product.pkl')"
   ]
  },
  {
   "cell_type": "code",
   "execution_count": null,
   "id": "fcfec642-64a9-419c-96fa-dd79e44aca48",
   "metadata": {},
   "outputs": [],
   "source": [
    "from sklearn.metrics.pairwise import cosine_similarity\n",
    "\n",
    "def get_single_product_similarity(product_id):\n",
    "    if product_id not in df_product['product_id'].values:\n",
    "        return \"Product ID not found.\"\n",
    "    \n",
    "    product_index = df_product.index[df_product['product_id'] == product_id].tolist()[0]\n",
    "\n",
    "    similarity_scores = cosine_similarity(features_scaled[product_index].reshape(1, -1), features_scaled)\n",
    "\n",
    "    return pd.Series(similarity_scores.flatten(), index=df_product['product_id'])\n",
    "\n",
    "def get_product_recommendations(product_id, num_recommendations=5):\n",
    "    similarity_scores = get_single_product_similarity(product_id)\n",
    "    \n",
    "    recommended_products = similarity_scores.sort_values(ascending=False).index[1:num_recommendations + 1]\n",
    "    \n",
    "    return df_product[df_product['product_id'].isin(recommended_products)]\n"
   ]
  },
  {
   "cell_type": "code",
   "execution_count": null,
   "id": "d7c7abf6-b744-48b0-9e53-c383b4c33aab",
   "metadata": {},
   "outputs": [],
   "source": [
    "recommended_products = get_product_recommendations(product_id=177822630, num_recommendations=30)"
   ]
  },
  {
   "cell_type": "markdown",
   "id": "49a477c8-d1a6-47f8-a296-0ed094310b57",
   "metadata": {},
   "source": [
    "# Mô hình Collaborative Filtering Recommendation "
   ]
  },
  {
   "cell_type": "code",
   "execution_count": null,
   "id": "1e1c9dc8-8e0a-4b2a-8503-437e91d5c0a9",
   "metadata": {},
   "outputs": [],
   "source": [
    "import pandas as pd\n",
    "import numpy as np\n",
    "from sklearn.model_selection import train_test_split\n",
    "\n",
    "# Lấy unique user_id và product_id để gán các chỉ số embedding\n",
    "user_ids = df_rating['customer_id'].unique().tolist()\n",
    "product_ids = df_rating['product_id'].unique().tolist()\n",
    "\n",
    "# Tạo index mapping cho user_id và product_id\n",
    "user_id_mapping = {id: idx for idx, id in enumerate(user_ids)}\n",
    "product_id_mapping = {id: idx for idx, id in enumerate(product_ids)}\n",
    "\n",
    "# Áp dụng mapping để chuẩn hóa ID\n",
    "df_rating['user_idx'] = df_rating['customer_id'].map(user_id_mapping)\n",
    "df_rating['product_idx'] = df_rating['product_id'].map(product_id_mapping)\n",
    "\n",
    "# Chia dữ liệu thành tập huấn luyện và tập kiểm tra\n",
    "train, test = train_test_split(df_rating, test_size=0.2, random_state=42)\n"
   ]
  },
  {
   "cell_type": "code",
   "execution_count": null,
   "id": "a653c2c9-ee20-4224-b13a-e0f60a3cf3b1",
   "metadata": {},
   "outputs": [],
   "source": [
    "import tensorflow as tf\n",
    "from tensorflow.keras.layers import Input, Embedding, Flatten, Concatenate, Dense, Dropout\n",
    "from tensorflow.keras.models import Model\n",
    "\n",
    "# Thông số mô hình\n",
    "n_users = len(user_ids)      # Số lượng người dùng\n",
    "n_products = len(product_ids) # Số lượng sản phẩm\n",
    "embedding_size = 50          # Kích thước vector embedding\n",
    "\n",
    "# Input cho người dùng và sản phẩm\n",
    "user_input = Input(shape=(1,), name='user_input')\n",
    "product_input = Input(shape=(1,), name='product_input')\n",
    "\n",
    "# Embedding cho người dùng và sản phẩm\n",
    "user_embedding = Embedding(input_dim=n_users, output_dim=embedding_size, name='user_embedding')(user_input)\n",
    "product_embedding = Embedding(input_dim=n_products, output_dim=embedding_size, name='product_embedding')(product_input)\n",
    "\n",
    "# Flatten để biến embedding thành vector\n",
    "user_vector = Flatten()(user_embedding)\n",
    "product_vector = Flatten()(product_embedding)\n",
    "\n",
    "# Kết hợp vector người dùng và sản phẩm\n",
    "concat = Concatenate()([user_vector, product_vector])\n",
    "\n",
    "# Thêm các lớp Dense để tạo mạng neural\n",
    "dense = Dense(128, activation='relu')(concat)\n",
    "dense = Dropout(0.5)(dense)\n",
    "dense = Dense(64, activation='relu')(dense)\n",
    "dense = Dropout(0.5)(dense)\n",
    "dense = Dense(32, activation='relu')(dense)\n",
    "\n",
    "# Đầu ra là điểm đánh giá (hoặc xác suất)\n",
    "output = Dense(1, activation='linear')(dense)\n",
    "\n",
    "# Khởi tạo mô hình\n",
    "model = Model(inputs=[user_input, product_input], outputs=output)\n",
    "model.compile(optimizer='adam', loss='mse', metrics=['mae'])\n",
    "model.summary()\n"
   ]
  },
  {
   "cell_type": "code",
   "execution_count": null,
   "id": "b8deb419-ee42-49df-be2c-ec08bd215308",
   "metadata": {},
   "outputs": [],
   "source": [
    "# Chuẩn bị dữ liệu đầu vào\n",
    "train_user = train['user_idx'].values\n",
    "train_product = train['product_idx'].values\n",
    "train_ratings = train['review_rating'].values\n",
    "\n",
    "test_user = test['user_idx'].values\n",
    "test_product = test['product_idx'].values\n",
    "test_ratings = test['review_rating'].values\n",
    "\n",
    "# Huấn luyện mô hình\n",
    "history = model.fit(\n",
    "    [train_user, train_product],\n",
    "    train_ratings,\n",
    "    validation_data=([test_user, test_product], test_ratings),\n",
    "    epochs=10,\n",
    "    batch_size=256\n",
    ")"
   ]
  },
  {
   "cell_type": "code",
   "execution_count": null,
   "id": "8f453378-ccfd-4dba-95b3-386b994ec211",
   "metadata": {},
   "outputs": [],
   "source": [
    "from tensorflow.keras.models import clone_model\n",
    "new_model = clone_model(model)\n",
    "new_model.set_weights(model.get_weights())\n",
    "new_model.compile(optimizer='adam', loss='mean_squared_error', metrics=['mae'])"
   ]
  },
  {
   "cell_type": "code",
   "execution_count": null,
   "id": "7182815f-a526-4853-9dff-aac3be13d931",
   "metadata": {},
   "outputs": [],
   "source": [
    "from tensorflow.keras.models import load_model\n",
    "loaded_model = load_model('D:/Document/doan2/model.h5')"
   ]
  },
  {
   "cell_type": "code",
   "execution_count": null,
   "id": "4a15c92a-34ac-47a5-aa2f-d47256b2b868",
   "metadata": {},
   "outputs": [],
   "source": [
    "import pickle\n",
    "with open('D:/Document/doan2/user_id_mapping.pkl', 'wb') as f_user:\n",
    "    pickle.dump(user_id_mapping, f_user)\n",
    "with open('D:/Document/doan2/product_id_mapping.pkl', 'wb') as f_product:\n",
    "    pickle.dump(product_id_mapping, f_product)"
   ]
  },
  {
   "cell_type": "code",
   "execution_count": null,
   "id": "ab0157e8-9720-4026-ae67-5c08694b7577",
   "metadata": {},
   "outputs": [],
   "source": [
    "# Đánh giá trên tập kiểm tra\n",
    "test_loss, test_mae = model.evaluate([test_user, test_product], test_ratings)\n",
    "print(f\"Test Loss: {test_loss}, Test MAE: {test_mae}\")"
   ]
  },
  {
   "cell_type": "code",
   "execution_count": null,
   "id": "1993095a-8af1-4974-997f-cc853fcb3917",
   "metadata": {},
   "outputs": [],
   "source": [
    "import numpy as np\n",
    "\n",
    "user_id = 589097\n",
    "product_id = 207374084\n",
    "\n",
    "# Lấy index của user_id và product_id từ ánh xạ\n",
    "user_idx = user_id_mapping.get(user_id)\n",
    "product_idx = product_id_mapping.get(product_id)\n",
    "\n",
    "# Kiểm tra xem user_idx và product_idx có hợp lệ không\n",
    "if user_idx is None or product_idx is None:\n",
    "    print(\"User ID hoặc Product ID không tồn tại trong ánh xạ.\")\n",
    "else:\n",
    "    user_input = np.array([[user_idx]])     # Đầu vào cho user\n",
    "    product_input = np.array([[product_idx]])  # Đầu vào cho product\n",
    "\n",
    "    # Dự đoán rating\n",
    "    predicted_rating = model.predict([user_input, product_input])\n",
    "\n",
    "    # In kết quả dự đoán\n",
    "    print(f\"Predicted Rating: {predicted_rating[0][0]}\")\n"
   ]
  },
  {
   "cell_type": "markdown",
   "id": "9516d40b-ee2f-47c2-b942-d47349464789",
   "metadata": {},
   "source": [
    "# Luật kết hợp"
   ]
  },
  {
   "cell_type": "code",
   "execution_count": null,
   "id": "93aa4097-5cc4-4dff-a76f-cdcf369a7c3b",
   "metadata": {},
   "outputs": [],
   "source": [
    "rating_df = pd.read_csv('D:/Document/doan2/rating.csv')\n",
    "rating_df = rating_df.drop_duplicates()\n",
    "rating_df = rating_df.dropna(subset=['review_date', 'review_title'])\n",
    "rating_df = rating_df.drop(columns=['review_title'])\n",
    "rating_df['review_date'] = pd.to_datetime(rating_df['review_date'])"
   ]
  },
  {
   "cell_type": "code",
   "execution_count": null,
   "id": "bb94fb87-75c2-437b-a2fc-0d00ceb2342b",
   "metadata": {},
   "outputs": [],
   "source": [
    "grouped_df = rating_df.groupby(['review_date', 'customer_id'])['product_id'].agg(lambda x: ', '.join(map(str, x))).reset_index()\n",
    "grouped_df.rename(columns={'product_id': 'purchased_products'}, inplace=True)\n",
    "filtered_df = grouped_df[grouped_df['purchased_products'].str.count(',') > 0]\n",
    "filtered_df = filtered_df[['purchased_products']]\n",
    "filtered = filtered_df.copy()"
   ]
  },
  {
   "cell_type": "markdown",
   "id": "480dc7e8-b178-43ad-8fa4-dd3034174256",
   "metadata": {},
   "source": [
    "+ Kiểm tra sự tồn tại của luật kết hợp"
   ]
  },
  {
   "cell_type": "code",
   "execution_count": null,
   "id": "3c1ce1b4-fd84-45f3-b3db-3b845c9b4b16",
   "metadata": {},
   "outputs": [],
   "source": [
    "# Kiểm tra tần suất của từng sản phẩm\n",
    "product_counts = pd.Series([item for transaction in transactions for item in transaction]).value_counts()\n",
    "print(product_counts.head(10))\n",
    "# Kiểm tra các sản phẩm có tần suất trên ngưỡng hỗ trợ\n",
    "min_support_count = len(transactions) * 0.001\n",
    "common_products = product_counts[product_counts >= min_support_count]\n",
    "print(\"Số sản phẩm phổ biến đạt ngưỡng:\", len(common_products))"
   ]
  },
  {
   "cell_type": "code",
   "execution_count": null,
   "id": "6803de51-2f8a-4b60-b7a9-f178f61bdc63",
   "metadata": {},
   "outputs": [],
   "source": [
    "# Tính số sản phẩm trong mỗi giao dịch\n",
    "transaction_lengths = [len(transaction) for transaction in transactions]\n",
    "# Vẽ biểu đồ phân phối số lượng sản phẩm trong giao dịch\n",
    "plt.figure(figsize=(8, 4))\n",
    "plt.hist(transaction_lengths, bins=50, color='lightgreen', edgecolor='black')\n",
    "plt.title(\"Phân phối số lượng sản phẩm trong mỗi giao dịch\")\n",
    "plt.xlabel(\"Số sản phẩm trong giao dịch\")\n",
    "plt.ylabel(\"Số lượng giao dịch\")\n",
    "plt.show()"
   ]
  },
  {
   "cell_type": "code",
   "execution_count": null,
   "id": "fc801924-5afc-4d39-9143-c539880ca7df",
   "metadata": {},
   "outputs": [],
   "source": [
    "from collections import Counter\n",
    "from itertools import combinations\n",
    "# Đếm số lần xuất hiện của từng cặp sản phẩm\n",
    "pair_counts = Counter()\n",
    "for transaction in transactions:\n",
    "    if len(transaction) > 1:\n",
    "        pair_counts.update(combinations(transaction, 2))\n"
   ]
  },
  {
   "cell_type": "code",
   "execution_count": null,
   "id": "85aab2aa-2b12-4bbc-a83d-22da75c25549",
   "metadata": {},
   "outputs": [],
   "source": [
    "# Lấy top 20 cặp sản phẩm phổ biến\n",
    "common_pairs = pd.DataFrame(pair_counts.most_common(20), columns=['Cặp sản phẩm', 'Tần suất'])\n",
    "# Vẽ biểu đồ thanh cho top 20 cặp sản phẩm\n",
    "plt.figure(figsize=(8, 4))\n",
    "plt.barh(common_pairs['Cặp sản phẩm'].astype(str), common_pairs['Tần suất'], color='coral')\n",
    "plt.title(\"Top 20 cặp sản phẩm phổ biến nhất\")\n",
    "plt.xlabel(\"Tần suất\")\n",
    "plt.ylabel(\"Cặp sản phẩm\")\n",
    "plt.gca().invert_yaxis()\n",
    "plt.show()"
   ]
  },
  {
   "cell_type": "code",
   "execution_count": null,
   "id": "66ed4591-2115-4709-b40f-79d05dff977c",
   "metadata": {},
   "outputs": [],
   "source": [
    "# Tính ngưỡng hỗ trợ dưới dạng số lần xuất hiện\n",
    "min_support_counts = [5, 10, 20, 50, 100]\n",
    "num_products_by_support = [sum(product_counts >= threshold) for threshold in min_support_counts]\n",
    "# Vẽ biểu đồ đường\n",
    "plt.figure(figsize=(8, 4))\n",
    "plt.plot(min_support_counts, num_products_by_support, marker='o', color='b')\n",
    "plt.title(\"Số lượng sản phẩm đạt ngưỡng hỗ trợ khác nhau\")\n",
    "plt.xlabel(\"Ngưỡng hỗ trợ (số lần xuất hiện)\")\n",
    "plt.ylabel(\"Số lượng sản phẩm\")\n",
    "plt.grid(True)\n",
    "plt.show()"
   ]
  },
  {
   "cell_type": "code",
   "execution_count": null,
   "id": "ba3e2a9c-2a87-4edb-80b4-b251748ffdd8",
   "metadata": {},
   "outputs": [],
   "source": [
    "import seaborn as sns\n",
    "# Lấy danh sách các sản phẩm phổ biến\n",
    "top_products = product_counts.head(10).index\n",
    "# Tạo ma trận đồng xuất hiện\n",
    "co_occurrence = pd.DataFrame(0, index=top_products, columns=top_products)\n",
    "for transaction in transactions:\n",
    "    for product_a, product_b in combinations(transaction, 2):\n",
    "        if product_a in top_products and product_b in top_products:\n",
    "            co_occurrence.loc[product_a, product_b] += 1\n",
    "            co_occurrence.loc[product_b, product_a] += 1\n",
    "# Vẽ heatmap cho ma trận đồng xuất hiện\n",
    "plt.figure(figsize=(8, 6))\n",
    "sns.heatmap(co_occurrence, annot=True, cmap=\"YlGnBu\", fmt=\"d\")\n",
    "plt.title(\"Ma trận đồng xuất hiện của các sản phẩm phổ biến\")\n",
    "plt.show()"
   ]
  },
  {
   "cell_type": "markdown",
   "id": "6a5cb193-db48-458f-b356-337184bb8b04",
   "metadata": {},
   "source": [
    "### Xây dựng mô hình"
   ]
  },
  {
   "cell_type": "code",
   "execution_count": null,
   "id": "01d5470c-bb21-47bd-9ba6-9dac3054b726",
   "metadata": {},
   "outputs": [],
   "source": [
    "filtered['purchased_products'] = filtered['purchased_products'].apply(lambda x: x.split(','))\n",
    "transactions = filtered['purchased_products'].tolist()\n",
    "df = pd.DataFrame(transactions)"
   ]
  },
  {
   "cell_type": "code",
   "execution_count": null,
   "id": "3f521c19-aaba-41e9-b2e7-0e4c7572525c",
   "metadata": {},
   "outputs": [],
   "source": [
    "import pandas as pd\n",
    "from scipy.sparse import csr_matrix\n",
    "from mlxtend.preprocessing import TransactionEncoder\n",
    "from mlxtend.frequent_patterns import apriori, association_rules\n",
    "filtered_transactions = [trans for trans in transactions if len(trans) > 1]\n",
    "frequent_products = pd.Series([item for sublist in filtered_transactions for item in sublist]).value_counts()\n",
    "common_products = set(frequent_products[frequent_products >= 10].index)\n",
    "filtered_transactions = [[item for item in trans if item in common_products] for trans in filtered_transactions]\n",
    "te = TransactionEncoder()\n",
    "te_ary = te.fit(filtered_transactions).transform(filtered_transactions)\n",
    "sparse_df = pd.DataFrame.sparse.from_spmatrix(csr_matrix(te_ary), columns=te.columns_)\n",
    "frequent_itemsets = apriori(sparse_df, min_support=0.003, use_colnames=True)\n",
    "rules = association_rules(frequent_itemsets, metric=\"confidence\", min_threshold=0.1)\n",
    "print(rules[['antecedents', 'consequents', 'support', 'confidence', 'lift']])"
   ]
  },
  {
   "cell_type": "code",
   "execution_count": null,
   "id": "da4a82c0-7e31-4f7b-9024-476385057217",
   "metadata": {},
   "outputs": [],
   "source": [
    "import numpy as np\n",
    "# Giả sử transactions là một danh sách các giao dịch\n",
    "num_parts = 10  # Số phần bạn muốn chia\n",
    "part_size = len(transactions) // num_parts\n",
    "# Tạo danh sách các phần\n",
    "parts = [transactions[i * part_size:(i + 1) * part_size] for i in range(num_parts)]"
   ]
  },
  {
   "cell_type": "code",
   "execution_count": null,
   "id": "e051ec77-92da-4d11-8b6c-19304d33fdc3",
   "metadata": {},
   "outputs": [],
   "source": [
    "from mlxtend.preprocessing import TransactionEncoder\n",
    "from mlxtend.frequent_patterns import apriori, association_rules\n",
    "import pandas as pd\n",
    "results = []  # Danh sách để lưu trữ kết quả cho từng phần\n",
    "for part in parts:\n",
    "    # Chuyển đổi phần giao dịch thành định dạng mà Apriori có thể sử dụng\n",
    "    te = TransactionEncoder()\n",
    "    te_ary = te.fit(part).transform(part)\n",
    "    sparse_df = pd.DataFrame.sparse.from_spmatrix(csr_matrix(te_ary), columns=te.columns_)\n",
    "    # Áp dụng thuật toán Apriori\n",
    "    frequent_itemsets = apriori(sparse_df, min_support=0.003, use_colnames=True)\n",
    "    results.append(frequent_itemsets)\n",
    "# Kết hợp tất cả các itemsets lại với nhau\n",
    "combined_results = pd.concat(results)"
   ]
  },
  {
   "cell_type": "code",
   "execution_count": null,
   "id": "930e3c5d-b720-4eb0-86dc-b333ff90f148",
   "metadata": {},
   "outputs": [],
   "source": [
    "# Nhóm theo các sản phẩm và tính tổng support\n",
    "final_frequent_itemsets = combined_results.groupby('itemsets').sum().reset_index()\n",
    "final_frequent_itemsets.sort_values(by='support', ascending=False, inplace=True)"
   ]
  },
  {
   "cell_type": "code",
   "execution_count": null,
   "id": "0c0b8e64-7316-4766-b12d-2c8f4e370cb4",
   "metadata": {},
   "outputs": [],
   "source": [
    "rules = association_rules(final_frequent_itemsets, metric=\"confidence\", min_threshold=0.1)\n",
    "rules[['antecedents', 'consequents', 'support', 'confidence', 'lift']]"
   ]
  },
  {
   "cell_type": "code",
   "execution_count": null,
   "id": "4f0ed386-c246-4c91-9b40-46a3e8909411",
   "metadata": {},
   "outputs": [],
   "source": []
  }
 ],
 "metadata": {
  "kernelspec": {
   "display_name": "Python 3",
   "language": "python",
   "name": "python3"
  },
  "language_info": {
   "codemirror_mode": {
    "name": "ipython",
    "version": 3
   },
   "file_extension": ".py",
   "mimetype": "text/x-python",
   "name": "python",
   "nbconvert_exporter": "python",
   "pygments_lexer": "ipython3",
   "version": "3.10.9"
  }
 },
 "nbformat": 4,
 "nbformat_minor": 5
}
