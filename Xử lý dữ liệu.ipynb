{
 "cells": [
  {
   "cell_type": "markdown",
   "id": "88615ec6-4eed-4467-a5f8-f125316020ad",
   "metadata": {},
   "source": [
    "# Xử lý Null"
   ]
  },
  {
   "cell_type": "markdown",
   "id": "49cca64e-e491-4a9a-b06d-176dd59f6fc0",
   "metadata": {},
   "source": [
    "### Product"
   ]
  },
  {
   "cell_type": "code",
   "execution_count": null,
   "id": "836aee64-ee30-4998-b3db-f454fef0db70",
   "metadata": {},
   "outputs": [],
   "source": [
    "import pandas as pd\n",
    "product = pd.read_csv(r'D:\\Document\\doan2\\data-doan2\\product_list.csv')"
   ]
  },
  {
   "cell_type": "code",
   "execution_count": null,
   "id": "cb627ca5-4d0f-4ca6-99f6-e2b0e9aa03a3",
   "metadata": {},
   "outputs": [],
   "source": [
    "columns_to_drop = [\n",
    "    'gift_item_title',\n",
    "    'current_seller_name',\n",
    "    'current_seller_link',\n",
    "    'current_seller_store_id'\n",
    "]\n",
    "\n",
    "product = product.drop(columns=columns_to_drop)\n"
   ]
  },
  {
   "cell_type": "code",
   "execution_count": null,
   "id": "409f7b93-8445-4bc2-a503-9ef6ad86e400",
   "metadata": {},
   "outputs": [],
   "source": [
    "null_values = product.isnull().sum()\n",
    "null_values"
   ]
  },
  {
   "cell_type": "code",
   "execution_count": null,
   "id": "fe99ca6e-5fe2-47e0-a04e-6e60e325033f",
   "metadata": {},
   "outputs": [],
   "source": [
    "product = product.dropna(subset=['current_seller_id'])"
   ]
  },
  {
   "cell_type": "markdown",
   "id": "662b00aa-9021-41d7-a638-a6eed47efa57",
   "metadata": {},
   "source": [
    "### Store"
   ]
  },
  {
   "cell_type": "code",
   "execution_count": null,
   "id": "e78cf2c7-fbb0-4271-adb2-c85b7987628e",
   "metadata": {},
   "outputs": [],
   "source": [
    "store = pd.read_csv(r'D:\\Document\\doan2\\data-doan2\\store_list.csv')"
   ]
  },
  {
   "cell_type": "code",
   "execution_count": null,
   "id": "833b7d48-02d3-4233-bf49-fc6193f98cd2",
   "metadata": {},
   "outputs": [],
   "source": [
    "store.shape\n",
    "null_values = store.isnull().sum()\n",
    "null_values"
   ]
  },
  {
   "cell_type": "code",
   "execution_count": null,
   "id": "35ea447b-25d9-494f-9e2a-5a4681a152ad",
   "metadata": {},
   "outputs": [],
   "source": [
    "updated_data = []\n",
    "\n",
    "for index, row in null_rating.iterrows():\n",
    "    seller_url = row['seller_link']\n",
    "    \n",
    "    driver.get(seller_url)\n",
    "\n",
    "    try:\n",
    "        badge_wrapper = WebDriverWait(driver, 10).until(\n",
    "            EC.presence_of_element_located((By.CLASS_NAME, 'Header__BadgeWrapper-sc-vgcg69-11.czboZb'))\n",
    "        )\n",
    "\n",
    "        sub_info = badge_wrapper.find_element(By.CLASS_NAME, 'Header__SubInfo-sc-vgcg69-12.iUmIsA')\n",
    "        \n",
    "        rating_text = sub_info.text.split('/')[0].strip()  \n",
    "        updated_data.append((row['seller_id'], rating_text))\n",
    "        \n",
    "    except Exception as e:\n",
    "        continue\n",
    "\n",
    "for id, rating in updated_data:\n",
    "    store.loc[store['seller_id'] == id, 'rating_seller'] = rating\n",
    "\n",
    "store = store.dropna(subset=['rating_seller'])"
   ]
  },
  {
   "cell_type": "markdown",
   "id": "7bcac5bf-7aae-4539-bc07-7ed3904f93f4",
   "metadata": {},
   "source": [
    "### Customer"
   ]
  },
  {
   "cell_type": "code",
   "execution_count": null,
   "id": "6e64a42d-ab2f-41a1-ad5f-3abbc4be9aa4",
   "metadata": {},
   "outputs": [],
   "source": [
    "customer = pd.read_csv(r'D:\\Document\\doan2\\data-doan2\\customer_list.csv')"
   ]
  },
  {
   "cell_type": "code",
   "execution_count": null,
   "id": "f0a2ff7e-d4b9-4916-ae76-a720eb4e97e5",
   "metadata": {},
   "outputs": [],
   "source": [
    "columns_to_keep = [\n",
    "    'created_by_id', \n",
    "    'created_by_name',\n",
    "    'contribute_info_joined_time', \n",
    "    'contribute_info_total_review', \n",
    "    'contribute_info_total_thank'\n",
    "]\n",
    "\n",
    "customer = customer[columns_to_keep]\n",
    "\n",
    "null_values = customer.isnull().sum()\n",
    "null_values\n",
    "customer = customer.dropna(subset=['created_by_id'])"
   ]
  },
  {
   "cell_type": "markdown",
   "id": "5f2ff586-95a7-4c0f-904f-4f39dde7e1d4",
   "metadata": {},
   "source": [
    "### Review"
   ]
  },
  {
   "cell_type": "code",
   "execution_count": null,
   "id": "3918d812-26a5-4836-bb94-632268927df1",
   "metadata": {},
   "outputs": [],
   "source": [
    "review = pd.read_csv(r'D:\\Document\\doan2\\data-doan2\\review_list.csv')\n",
    "null_values = review.isnull().sum()\n",
    "null_values\n",
    "columns_to_keep = [\n",
    "    'id',\n",
    "    'title',\n",
    "    'created_by_id',\n",
    "    'content',\n",
    "    'status',\n",
    "    'rating',\n",
    "    'created_at',\n",
    "    'product_id',\n",
    "    'timeline_review_created_date'\n",
    "]\n",
    "review = review[columns_to_keep]\n",
    "review = review.dropna(subset=['created_by_id'])"
   ]
  },
  {
   "cell_type": "markdown",
   "id": "5938107d-e7eb-4e44-a4f4-83f0e6899e90",
   "metadata": {},
   "source": [
    "### Orders"
   ]
  },
  {
   "cell_type": "code",
   "execution_count": null,
   "id": "c3603bc7-558e-4b29-b579-11087d629dae",
   "metadata": {},
   "outputs": [],
   "source": [
    "order = pd.read_csv(r'D:\\Document\\doan2\\data-doan2\\order_list.csv')\n",
    "null_values = order.isnull().sum()\n",
    "null_values\n",
    "order = order.dropna(subset=['created_by_id', 'timeline_delivery_date'])"
   ]
  },
  {
   "cell_type": "markdown",
   "id": "990d192e-9a70-4b22-8e28-539687790559",
   "metadata": {},
   "source": [
    "# Xử lý trùng lặp"
   ]
  },
  {
   "cell_type": "code",
   "execution_count": null,
   "id": "336d40ac-aecc-406a-b452-f95796e6dbe6",
   "metadata": {},
   "outputs": [],
   "source": [
    "import pandas as pd\n",
    "product = pd.read_csv(r'D:\\Document\\doan2\\data-doan2-clean\\product_clean.csv')\n",
    "product = product.drop_duplicates(subset='id', keep='first')\n",
    "product = product.drop_duplicates()\n",
    "store = store.drop_duplicates()\n",
    "customer = customer.drop_duplicates()\n",
    "review = review.drop_duplicates()\n",
    "order = order.drop_duplicates()\n"
   ]
  },
  {
   "cell_type": "markdown",
   "id": "6d3bc579-5110-4b1f-8986-51436ed966c7",
   "metadata": {},
   "source": [
    "# Chuyển đổi kiểu dữ liệu"
   ]
  },
  {
   "cell_type": "code",
   "execution_count": null,
   "id": "25a90059-a042-443d-af6e-e579fb23ae8c",
   "metadata": {},
   "outputs": [],
   "source": [
    "product.info()\n",
    "product['all_time_quantity_sold'] = product['all_time_quantity_sold'].fillna(0).astype(int)\n",
    "product['brand_id'] = product['brand_id'].fillna(0).astype(int)\n",
    "product['current_seller_id'] = product['current_seller_id'].fillna(0).astype(int)"
   ]
  },
  {
   "cell_type": "code",
   "execution_count": null,
   "id": "a78c5049-3ac9-4041-86ea-cc9ab72ad4ff",
   "metadata": {},
   "outputs": [],
   "source": [
    "breadcrumbs_list = product['breadcrumbs'].tolist()\n",
    "\n",
    "categories_list = [cat.split(', ') for cat in breadcrumbs_list]\n",
    "\n",
    "def build_hierarchy(categories):\n",
    "    hierarchy = {}\n",
    "    id_map = {}\n",
    "    parent_map = {}\n",
    "    next_id = 1\n",
    "\n",
    "    for category in categories:\n",
    "        current_level = hierarchy\n",
    "        parent_id = None\n",
    "        for cat in category:\n",
    "            if cat not in current_level:\n",
    "                current_level[cat] = {'subcategories': {}}\n",
    "                id_map[cat] = next_id \n",
    "                parent_map[next_id] = parent_id\n",
    "                next_id += 1\n",
    "            current_level = current_level[cat]['subcategories']\n",
    "            parent_id = id_map[cat]\n",
    "            parent_map[next_id] = parent_id\n",
    "\n",
    "    return id_map, parent_map\n",
    "\n",
    "id_map, parent_map = build_hierarchy(categories_list)\n",
    "\n",
    "categories_df = pd.DataFrame(id_map.items(), columns=['category_name', 'category_id'])\n",
    "categories_df['parent_id'] = categories_df['category_id'].map(parent_map)\n",
    "\n",
    "product['breadcrumbs_id'] = product['breadcrumbs'].apply(\n",
    "    lambda x: [id_map[cat] for cat in x.split(', ') if cat in id_map]\n",
    ")\n",
    "\n",
    "product['breadcrumbs_id'] = product['breadcrumbs_id'].apply(lambda x: ', '.join(map(str, x)))\n",
    "\n",
    "product.drop(columns=['breadcrumbs'], inplace=True)\n",
    "\n",
    "categories_df['parent_id'] = categories_df['parent_id'].fillna(0).astype(int)"
   ]
  },
  {
   "cell_type": "code",
   "execution_count": null,
   "id": "0e04b8e6-aeaa-4982-9503-de24d275b40e",
   "metadata": {},
   "outputs": [],
   "source": [
    "store.info()\n",
    "store['rating_seller'] = pd.to_numeric(store['rating_seller'], errors='coerce')"
   ]
  },
  {
   "cell_type": "code",
   "execution_count": null,
   "id": "625ec3ec-2ce3-4518-bb23-1dbd6ab26e8c",
   "metadata": {},
   "outputs": [],
   "source": [
    "review.info()\n",
    "review['created_by_id'] = review['created_by_id'].fillna(0).astype(int)\n",
    "review['timeline_review_created_date'] = pd.to_datetime(review['timeline_review_created_date'], errors='coerce')\n",
    "review.iloc[100]\n",
    "review['timeline_review_created_date'] = pd.to_datetime(review['timeline_review_created_date'])\n",
    "\n",
    "review['date'] = review['timeline_review_created_date'].dt.date \n",
    "review['time'] = review['timeline_review_created_date'].dt.time\n",
    "\n",
    "review.drop(columns=['timeline_review_created_date'], inplace=True)\n",
    "\n",
    "review['date'] = review['date'].astype(str) \n",
    "\n",
    "review['time'] = review['time'].astype('object') \n",
    "review['date'] = pd.to_datetime(review['date'])"
   ]
  },
  {
   "cell_type": "code",
   "execution_count": null,
   "id": "99f13abc-3013-43d5-92a4-69c4bd3ad87c",
   "metadata": {},
   "outputs": [],
   "source": [
    "customer.info()\n",
    "customer['created_by_id'] = customer['created_by_id'].astype('Int64') \n",
    "\n",
    "customer['created_by_name'].fillna('Unknown', inplace=True)\n",
    "\n",
    "customer['contribute_info_total_review'] = customer['contribute_info_total_review'].astype(int)\n",
    "customer['contribute_info_total_thank'] = customer['contribute_info_total_thank'].astype(int)"
   ]
  },
  {
   "cell_type": "code",
   "execution_count": null,
   "id": "c90bb68f-539f-4d87-8cbc-e84eb70c1b31",
   "metadata": {},
   "outputs": [],
   "source": [
    "order.info()\n",
    "order['created_by_id'] = order['created_by_id'].astype('Int64') \n",
    "order['created_by_name'].fillna('Unknown', inplace=True)\n",
    "order['timeline_delivery_date'] = pd.to_datetime(order['timeline_delivery_date'], errors='coerce')"
   ]
  },
  {
   "cell_type": "markdown",
   "id": "ea622395-2848-4d79-afb8-ee17abc39d08",
   "metadata": {},
   "source": [
    "# Lưu trữ dữ liệu"
   ]
  },
  {
   "cell_type": "code",
   "execution_count": null,
   "id": "e8c7334e-8466-448a-a5c4-d47e27843546",
   "metadata": {},
   "outputs": [],
   "source": [
    "categories_df.to_csv('categories_clean.csv', index=False)\n",
    "product.to_csv('product_clean.csv', index=False)\n",
    "store.to_csv('store_clean.csv', index=False)\n",
    "customer.to_csv('customer_clean.csv', index=False)\n",
    "review.to_csv('review_clean.csv', index=False)\n",
    "order.to_csv('order_clean.csv', index=False)"
   ]
  }
 ],
 "metadata": {
  "kernelspec": {
   "display_name": "Python 3",
   "language": "python",
   "name": "python3"
  },
  "language_info": {
   "codemirror_mode": {
    "name": "ipython",
    "version": 3
   },
   "file_extension": ".py",
   "mimetype": "text/x-python",
   "name": "python",
   "nbconvert_exporter": "python",
   "pygments_lexer": "ipython3",
   "version": "3.10.9"
  }
 },
 "nbformat": 4,
 "nbformat_minor": 5
}
